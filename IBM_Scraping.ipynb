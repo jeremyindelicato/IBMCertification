{
  "nbformat": 4,
  "nbformat_minor": 0,
  "metadata": {
    "colab": {
      "provenance": [],
      "authorship_tag": "ABX9TyOA8t1y2+53cNvJJHdwWHiZ",
      "include_colab_link": true
    },
    "kernelspec": {
      "name": "python3",
      "display_name": "Python 3"
    },
    "language_info": {
      "name": "python"
    }
  },
  "cells": [
    {
      "cell_type": "markdown",
      "metadata": {
        "id": "view-in-github",
        "colab_type": "text"
      },
      "source": [
        "<a href=\"https://colab.research.google.com/github/jeremyindelicato/IBMCertification/blob/main/IBM_Scraping.ipynb\" target=\"_parent\"><img src=\"https://colab.research.google.com/assets/colab-badge.svg\" alt=\"Open In Colab\"/></a>"
      ]
    },
    {
      "cell_type": "markdown",
      "source": [
        "Question 1 - Extraire les données boursières de Tesla"
      ],
      "metadata": {
        "id": "mSnLCww64EEX"
      }
    },
    {
      "cell_type": "code",
      "execution_count": null,
      "metadata": {
        "id": "JpBU2zeU3veY"
      },
      "outputs": [],
      "source": [
        "import yfinance as yf\n",
        "\n",
        "# Extraire les données boursières de Tesla\n",
        "tesla = yf.Ticker(\"TSLA\")\n",
        "tesla_data = tesla.history(period=\"max\")\n",
        "tesla_data.reset_index(inplace=True)\n",
        "tesla_data.head()\n"
      ]
    },
    {
      "cell_type": "markdown",
      "source": [
        "Question 2 - Extraire les revenus de Tesla avec Webscraping"
      ],
      "metadata": {
        "id": "Crm1NnWz4NOf"
      }
    },
    {
      "cell_type": "code",
      "source": [
        "import pandas as pd\n",
        "import requests\n",
        "from bs4 import BeautifulSoup\n",
        "\n",
        "url_tesla = \"https://www.macrotrends.net/stocks/charts/TSLA/tesla/revenue\"\n",
        "html_data = requests.get(url_tesla).text\n",
        "soup = BeautifulSoup(html_data, \"html.parser\")\n",
        "\n",
        "tesla_revenue = pd.DataFrame(columns=[\"Date\", \"Revenue\"])\n",
        "\n",
        "for row in soup.find_all(\"table\")[1].find_all(\"tr\"):\n",
        "    cols = row.find_all(\"td\")\n",
        "    if len(cols) == 2:\n",
        "        date = cols[0].text.strip()\n",
        "        revenue = cols[1].text.strip().replace(\"$\", \"\").replace(\",\", \"\")\n",
        "        if revenue:\n",
        "            tesla_revenue = tesla_revenue.append({\"Date\": date, \"Revenue\": revenue}, ignore_index=True)\n",
        "\n",
        "tesla_revenue[\"Revenue\"] = pd.to_numeric(tesla_revenue[\"Revenue\"], errors=\"coerce\")\n",
        "tesla_revenue.dropna(inplace=True)\n",
        "tesla_revenue.tail()\n"
      ],
      "metadata": {
        "id": "AtBALH7W4PMn"
      },
      "execution_count": null,
      "outputs": []
    },
    {
      "cell_type": "markdown",
      "source": [
        " Question 3 - Extraire les données boursières de GameStop"
      ],
      "metadata": {
        "id": "NzjJW9xZ4SmX"
      }
    },
    {
      "cell_type": "code",
      "source": [
        "gme = yf.Ticker(\"GME\")\n",
        "gme_data = gme.history(period=\"max\")\n",
        "gme_data.reset_index(inplace=True)\n",
        "gme_data.head()\n"
      ],
      "metadata": {
        "id": "Olfl-VDg4TNX"
      },
      "execution_count": null,
      "outputs": []
    },
    {
      "cell_type": "markdown",
      "source": [
        "Question 4 - Extraire les revenus de GameStop avec Webscraping"
      ],
      "metadata": {
        "id": "qyTtXhXh4UlX"
      }
    },
    {
      "cell_type": "code",
      "source": [
        "url_gme = \"https://www.macrotrends.net/stocks/charts/GME/gamestop/revenue\"\n",
        "html_data = requests.get(url_gme).text\n",
        "soup = BeautifulSoup(html_data, \"html.parser\")\n",
        "\n",
        "gme_revenue = pd.DataFrame(columns=[\"Date\", \"Revenue\"])\n",
        "\n",
        "for row in soup.find_all(\"table\")[1].find_all(\"tr\"):\n",
        "    cols = row.find_all(\"td\")\n",
        "    if len(cols) == 2:\n",
        "        date = cols[0].text.strip()\n",
        "        revenue = cols[1].text.strip().replace(\"$\", \"\").replace(\",\", \"\")\n",
        "        if revenue:\n",
        "            gme_revenue = gme_revenue.append({\"Date\": date, \"Revenue\": revenue}, ignore_index=True)\n",
        "\n",
        "gme_revenue[\"Revenue\"] = pd.to_numeric(gme_revenue[\"Revenue\"], errors=\"coerce\")\n",
        "gme_revenue.dropna(inplace=True)\n",
        "gme_revenue.tail()\n"
      ],
      "metadata": {
        "id": "D2T1OK1G4Yxn"
      },
      "execution_count": null,
      "outputs": []
    },
    {
      "cell_type": "markdown",
      "source": [
        "Question 5 - Graphe Tesla : stock vs revenue"
      ],
      "metadata": {
        "id": "nIlCKPu84dVP"
      }
    },
    {
      "cell_type": "code",
      "source": [
        "import matplotlib.pyplot as plt\n",
        "\n",
        "def make_graph(stock_data, revenue_data, stock_name):\n",
        "    fig, ax1 = plt.subplots(figsize=(14,6))\n",
        "\n",
        "    # Tracer les données de stock\n",
        "    ax1.set_xlabel(\"Date\")\n",
        "    ax1.set_ylabel(\"Stock Price\", color='tab:blue')\n",
        "    ax1.plot(stock_data[\"Date\"], stock_data[\"Close\"], label=\"Stock Price\", color='tab:blue')\n",
        "    ax1.tick_params(axis='y', labelcolor='tab:blue')\n",
        "\n",
        "    # Deuxième axe Y pour les revenus\n",
        "    ax2 = ax1.twinx()\n",
        "    ax2.set_ylabel(\"Revenue (in millions)\", color='tab:red')\n",
        "    ax2.plot(revenue_data[\"Date\"], revenue_data[\"Revenue\"], label=\"Revenue\", color='tab:red')\n",
        "    ax2.tick_params(axis='y', labelcolor='tab:red')\n",
        "\n",
        "    plt.title(f\"{stock_name} Stock Price vs Revenue\")\n",
        "    fig.tight_layout()\n",
        "    plt.show()\n",
        "\n",
        "make_graph(tesla_data, tesla_revenue, \"Tesla\")\n"
      ],
      "metadata": {
        "id": "p2j5gBwx4fC_"
      },
      "execution_count": null,
      "outputs": []
    },
    {
      "cell_type": "markdown",
      "source": [
        "Question 6 - Graphe GameStop : stock vs revenue"
      ],
      "metadata": {
        "id": "__bLGDqh4i7o"
      }
    },
    {
      "cell_type": "code",
      "source": [
        "make_graph(gme_data, gme_revenue, \"GameStop\")"
      ],
      "metadata": {
        "id": "nbMHJWYY4jcX"
      },
      "execution_count": null,
      "outputs": []
    }
  ]
}